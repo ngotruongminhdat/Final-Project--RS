{
 "cells": [
  {
   "cell_type": "markdown",
   "metadata": {},
   "source": [
    "## Import libraries"
   ]
  },
  {
   "cell_type": "code",
   "execution_count": 97,
   "metadata": {},
   "outputs": [],
   "source": [
    "\n",
    "import pandas as pd\n",
    "import numpy as np\n",
    "import matplotlib.pyplot as plt\n",
    "from IPython.core.interactiveshell import InteractiveShell\n",
    "InteractiveShell.ast_node_interactivity = \"all\"\n",
    "from colorama import Fore, Back, Style \n",
    "color = Fore.YELLOW"
   ]
  },
  {
   "cell_type": "markdown",
   "metadata": {},
   "source": [
    "## Import data"
   ]
  },
  {
   "cell_type": "code",
   "execution_count": 98,
   "metadata": {},
   "outputs": [
    {
     "name": "stdout",
     "output_type": "stream",
     "text": [
      "\u001b[33mHead of books dataframe:\n"
     ]
    },
    {
     "data": {
      "text/html": [
       "<div>\n",
       "<style scoped>\n",
       "    .dataframe tbody tr th:only-of-type {\n",
       "        vertical-align: middle;\n",
       "    }\n",
       "\n",
       "    .dataframe tbody tr th {\n",
       "        vertical-align: top;\n",
       "    }\n",
       "\n",
       "    .dataframe thead th {\n",
       "        text-align: right;\n",
       "    }\n",
       "</style>\n",
       "<table border=\"1\" class=\"dataframe\">\n",
       "  <thead>\n",
       "    <tr style=\"text-align: right;\">\n",
       "      <th></th>\n",
       "      <th>isbn</th>\n",
       "      <th>book_title</th>\n",
       "      <th>book_author</th>\n",
       "      <th>year_of_publication</th>\n",
       "      <th>publisher</th>\n",
       "      <th>img_s</th>\n",
       "      <th>img_m</th>\n",
       "      <th>img_l</th>\n",
       "    </tr>\n",
       "  </thead>\n",
       "  <tbody>\n",
       "    <tr>\n",
       "      <th>1</th>\n",
       "      <td>0195153448</td>\n",
       "      <td>Classical Mythology</td>\n",
       "      <td>Mark P. O. Morford</td>\n",
       "      <td>2002</td>\n",
       "      <td>Oxford University Press</td>\n",
       "      <td>http://images.amazon.com/images/P/0195153448.0...</td>\n",
       "      <td>http://images.amazon.com/images/P/0195153448.0...</td>\n",
       "      <td>http://images.amazon.com/images/P/0195153448.0...</td>\n",
       "    </tr>\n",
       "    <tr>\n",
       "      <th>2</th>\n",
       "      <td>0002005018</td>\n",
       "      <td>Clara Callan</td>\n",
       "      <td>Richard Bruce Wright</td>\n",
       "      <td>2001</td>\n",
       "      <td>HarperFlamingo Canada</td>\n",
       "      <td>http://images.amazon.com/images/P/0002005018.0...</td>\n",
       "      <td>http://images.amazon.com/images/P/0002005018.0...</td>\n",
       "      <td>http://images.amazon.com/images/P/0002005018.0...</td>\n",
       "    </tr>\n",
       "    <tr>\n",
       "      <th>3</th>\n",
       "      <td>0060973129</td>\n",
       "      <td>Decision in Normandy</td>\n",
       "      <td>Carlo D'Este</td>\n",
       "      <td>1991</td>\n",
       "      <td>HarperPerennial</td>\n",
       "      <td>http://images.amazon.com/images/P/0060973129.0...</td>\n",
       "      <td>http://images.amazon.com/images/P/0060973129.0...</td>\n",
       "      <td>http://images.amazon.com/images/P/0060973129.0...</td>\n",
       "    </tr>\n",
       "    <tr>\n",
       "      <th>4</th>\n",
       "      <td>0374157065</td>\n",
       "      <td>Flu: The Story of the Great Influenza Pandemic...</td>\n",
       "      <td>Gina Bari Kolata</td>\n",
       "      <td>1999</td>\n",
       "      <td>Farrar Straus Giroux</td>\n",
       "      <td>http://images.amazon.com/images/P/0374157065.0...</td>\n",
       "      <td>http://images.amazon.com/images/P/0374157065.0...</td>\n",
       "      <td>http://images.amazon.com/images/P/0374157065.0...</td>\n",
       "    </tr>\n",
       "    <tr>\n",
       "      <th>5</th>\n",
       "      <td>0393045218</td>\n",
       "      <td>The Mummies of Urumchi</td>\n",
       "      <td>E. J. W. Barber</td>\n",
       "      <td>1999</td>\n",
       "      <td>W. W. Norton &amp; Company</td>\n",
       "      <td>http://images.amazon.com/images/P/0393045218.0...</td>\n",
       "      <td>http://images.amazon.com/images/P/0393045218.0...</td>\n",
       "      <td>http://images.amazon.com/images/P/0393045218.0...</td>\n",
       "    </tr>\n",
       "  </tbody>\n",
       "</table>\n",
       "</div>"
      ],
      "text/plain": [
       "         isbn                                         book_title  \\\n",
       "1  0195153448                                Classical Mythology   \n",
       "2  0002005018                                       Clara Callan   \n",
       "3  0060973129                               Decision in Normandy   \n",
       "4  0374157065  Flu: The Story of the Great Influenza Pandemic...   \n",
       "5  0393045218                             The Mummies of Urumchi   \n",
       "\n",
       "            book_author year_of_publication                publisher  \\\n",
       "1    Mark P. O. Morford                2002  Oxford University Press   \n",
       "2  Richard Bruce Wright                2001    HarperFlamingo Canada   \n",
       "3          Carlo D'Este                1991          HarperPerennial   \n",
       "4      Gina Bari Kolata                1999     Farrar Straus Giroux   \n",
       "5       E. J. W. Barber                1999   W. W. Norton & Company   \n",
       "\n",
       "                                               img_s  \\\n",
       "1  http://images.amazon.com/images/P/0195153448.0...   \n",
       "2  http://images.amazon.com/images/P/0002005018.0...   \n",
       "3  http://images.amazon.com/images/P/0060973129.0...   \n",
       "4  http://images.amazon.com/images/P/0374157065.0...   \n",
       "5  http://images.amazon.com/images/P/0393045218.0...   \n",
       "\n",
       "                                               img_m  \\\n",
       "1  http://images.amazon.com/images/P/0195153448.0...   \n",
       "2  http://images.amazon.com/images/P/0002005018.0...   \n",
       "3  http://images.amazon.com/images/P/0060973129.0...   \n",
       "4  http://images.amazon.com/images/P/0374157065.0...   \n",
       "5  http://images.amazon.com/images/P/0393045218.0...   \n",
       "\n",
       "                                               img_l  \n",
       "1  http://images.amazon.com/images/P/0195153448.0...  \n",
       "2  http://images.amazon.com/images/P/0002005018.0...  \n",
       "3  http://images.amazon.com/images/P/0060973129.0...  \n",
       "4  http://images.amazon.com/images/P/0374157065.0...  \n",
       "5  http://images.amazon.com/images/P/0393045218.0...  "
      ]
     },
     "execution_count": 98,
     "metadata": {},
     "output_type": "execute_result"
    },
    {
     "name": "stdout",
     "output_type": "stream",
     "text": [
      "\u001b[33m\n",
      "Books dataframe description: \n"
     ]
    },
    {
     "data": {
      "text/html": [
       "<div>\n",
       "<style scoped>\n",
       "    .dataframe tbody tr th:only-of-type {\n",
       "        vertical-align: middle;\n",
       "    }\n",
       "\n",
       "    .dataframe tbody tr th {\n",
       "        vertical-align: top;\n",
       "    }\n",
       "\n",
       "    .dataframe thead th {\n",
       "        text-align: right;\n",
       "    }\n",
       "</style>\n",
       "<table border=\"1\" class=\"dataframe\">\n",
       "  <thead>\n",
       "    <tr style=\"text-align: right;\">\n",
       "      <th></th>\n",
       "      <th>isbn</th>\n",
       "      <th>book_title</th>\n",
       "      <th>book_author</th>\n",
       "      <th>year_of_publication</th>\n",
       "      <th>publisher</th>\n",
       "      <th>img_s</th>\n",
       "      <th>img_m</th>\n",
       "      <th>img_l</th>\n",
       "    </tr>\n",
       "  </thead>\n",
       "  <tbody>\n",
       "    <tr>\n",
       "      <th>count</th>\n",
       "      <td>271379</td>\n",
       "      <td>271379</td>\n",
       "      <td>271378</td>\n",
       "      <td>271379</td>\n",
       "      <td>271377</td>\n",
       "      <td>271379</td>\n",
       "      <td>271379</td>\n",
       "      <td>271379</td>\n",
       "    </tr>\n",
       "    <tr>\n",
       "      <th>unique</th>\n",
       "      <td>271379</td>\n",
       "      <td>242154</td>\n",
       "      <td>102028</td>\n",
       "      <td>116</td>\n",
       "      <td>16806</td>\n",
       "      <td>271063</td>\n",
       "      <td>271063</td>\n",
       "      <td>271063</td>\n",
       "    </tr>\n",
       "    <tr>\n",
       "      <th>top</th>\n",
       "      <td>0195153448</td>\n",
       "      <td>Selected Poems</td>\n",
       "      <td>Agatha Christie</td>\n",
       "      <td>2002</td>\n",
       "      <td>Harlequin</td>\n",
       "      <td>http://images.amazon.com/images/P/226401654X.0...</td>\n",
       "      <td>http://images.amazon.com/images/P/226401654X.0...</td>\n",
       "      <td>http://images.amazon.com/images/P/226401654X.0...</td>\n",
       "    </tr>\n",
       "    <tr>\n",
       "      <th>freq</th>\n",
       "      <td>1</td>\n",
       "      <td>27</td>\n",
       "      <td>632</td>\n",
       "      <td>17628</td>\n",
       "      <td>7536</td>\n",
       "      <td>2</td>\n",
       "      <td>2</td>\n",
       "      <td>2</td>\n",
       "    </tr>\n",
       "  </tbody>\n",
       "</table>\n",
       "</div>"
      ],
      "text/plain": [
       "              isbn      book_title      book_author year_of_publication  \\\n",
       "count       271379          271379           271378              271379   \n",
       "unique      271379          242154           102028                 116   \n",
       "top     0195153448  Selected Poems  Agatha Christie                2002   \n",
       "freq             1              27              632               17628   \n",
       "\n",
       "        publisher                                              img_s  \\\n",
       "count      271377                                             271379   \n",
       "unique      16806                                             271063   \n",
       "top     Harlequin  http://images.amazon.com/images/P/226401654X.0...   \n",
       "freq         7536                                                  2   \n",
       "\n",
       "                                                    img_m  \\\n",
       "count                                              271379   \n",
       "unique                                             271063   \n",
       "top     http://images.amazon.com/images/P/226401654X.0...   \n",
       "freq                                                    2   \n",
       "\n",
       "                                                    img_l  \n",
       "count                                              271379  \n",
       "unique                                             271063  \n",
       "top     http://images.amazon.com/images/P/226401654X.0...  \n",
       "freq                                                    2  "
      ]
     },
     "execution_count": 98,
     "metadata": {},
     "output_type": "execute_result"
    },
    {
     "name": "stdout",
     "output_type": "stream",
     "text": [
      "\n",
      "\u001b[33mData type of each colum: \n"
     ]
    },
    {
     "data": {
      "text/plain": [
       "isbn                   object\n",
       "book_title             object\n",
       "book_author            object\n",
       "year_of_publication    object\n",
       "publisher              object\n",
       "img_s                  object\n",
       "img_m                  object\n",
       "img_l                  object\n",
       "dtype: object"
      ]
     },
     "execution_count": 98,
     "metadata": {},
     "output_type": "execute_result"
    }
   ],
   "source": [
    "# get books dataframe\n",
    "b_cols = ['isbn', 'book_title' ,'book_author','year_of_publication', 'publisher', 'img_s', 'img_m', 'img_l']\n",
    "books_df = pd.read_csv('Data/Book reviews/BX_Books.csv', sep=';', names = b_cols , encoding='latin-1',low_memory=False)\n",
    "books_df = books_df.drop(books_df.index[0])\n",
    "\n",
    "# About data\n",
    "print(f'{color}Head of books dataframe:')\n",
    "books_df.head(5)\n",
    "print(f'{color}\\nBooks dataframe description: ')\n",
    "books_df.describe()\n",
    "print(f'\\n{color}Data type of each colum: ')\n",
    "books_df.dtypes"
   ]
  },
  {
   "cell_type": "code",
   "execution_count": 99,
   "metadata": {},
   "outputs": [
    {
     "name": "stdout",
     "output_type": "stream",
     "text": [
      "\u001b[33mHead of users dataframe:\n"
     ]
    },
    {
     "data": {
      "text/html": [
       "<div>\n",
       "<style scoped>\n",
       "    .dataframe tbody tr th:only-of-type {\n",
       "        vertical-align: middle;\n",
       "    }\n",
       "\n",
       "    .dataframe tbody tr th {\n",
       "        vertical-align: top;\n",
       "    }\n",
       "\n",
       "    .dataframe thead th {\n",
       "        text-align: right;\n",
       "    }\n",
       "</style>\n",
       "<table border=\"1\" class=\"dataframe\">\n",
       "  <thead>\n",
       "    <tr style=\"text-align: right;\">\n",
       "      <th></th>\n",
       "      <th>user_id</th>\n",
       "      <th>location</th>\n",
       "      <th>age</th>\n",
       "    </tr>\n",
       "  </thead>\n",
       "  <tbody>\n",
       "    <tr>\n",
       "      <th>1</th>\n",
       "      <td>1</td>\n",
       "      <td>nyc, new york, usa</td>\n",
       "      <td>NaN</td>\n",
       "    </tr>\n",
       "    <tr>\n",
       "      <th>2</th>\n",
       "      <td>2</td>\n",
       "      <td>stockton, california, usa</td>\n",
       "      <td>18</td>\n",
       "    </tr>\n",
       "    <tr>\n",
       "      <th>3</th>\n",
       "      <td>3</td>\n",
       "      <td>moscow, yukon territory, russia</td>\n",
       "      <td>NaN</td>\n",
       "    </tr>\n",
       "    <tr>\n",
       "      <th>4</th>\n",
       "      <td>4</td>\n",
       "      <td>porto, v.n.gaia, portugal</td>\n",
       "      <td>17</td>\n",
       "    </tr>\n",
       "    <tr>\n",
       "      <th>5</th>\n",
       "      <td>5</td>\n",
       "      <td>farnborough, hants, united kingdom</td>\n",
       "      <td>NaN</td>\n",
       "    </tr>\n",
       "  </tbody>\n",
       "</table>\n",
       "</div>"
      ],
      "text/plain": [
       "  user_id                            location  age\n",
       "1       1                  nyc, new york, usa  NaN\n",
       "2       2           stockton, california, usa   18\n",
       "3       3     moscow, yukon territory, russia  NaN\n",
       "4       4           porto, v.n.gaia, portugal   17\n",
       "5       5  farnborough, hants, united kingdom  NaN"
      ]
     },
     "execution_count": 99,
     "metadata": {},
     "output_type": "execute_result"
    },
    {
     "name": "stdout",
     "output_type": "stream",
     "text": [
      "\u001b[33m\n",
      "Users dataframe description: \n"
     ]
    },
    {
     "data": {
      "text/html": [
       "<div>\n",
       "<style scoped>\n",
       "    .dataframe tbody tr th:only-of-type {\n",
       "        vertical-align: middle;\n",
       "    }\n",
       "\n",
       "    .dataframe tbody tr th {\n",
       "        vertical-align: top;\n",
       "    }\n",
       "\n",
       "    .dataframe thead th {\n",
       "        text-align: right;\n",
       "    }\n",
       "</style>\n",
       "<table border=\"1\" class=\"dataframe\">\n",
       "  <thead>\n",
       "    <tr style=\"text-align: right;\">\n",
       "      <th></th>\n",
       "      <th>user_id</th>\n",
       "      <th>location</th>\n",
       "      <th>age</th>\n",
       "    </tr>\n",
       "  </thead>\n",
       "  <tbody>\n",
       "    <tr>\n",
       "      <th>count</th>\n",
       "      <td>278858</td>\n",
       "      <td>278858</td>\n",
       "      <td>168096</td>\n",
       "    </tr>\n",
       "    <tr>\n",
       "      <th>unique</th>\n",
       "      <td>278858</td>\n",
       "      <td>57339</td>\n",
       "      <td>165</td>\n",
       "    </tr>\n",
       "    <tr>\n",
       "      <th>top</th>\n",
       "      <td>1</td>\n",
       "      <td>london, england, united kingdom</td>\n",
       "      <td>24</td>\n",
       "    </tr>\n",
       "    <tr>\n",
       "      <th>freq</th>\n",
       "      <td>1</td>\n",
       "      <td>2506</td>\n",
       "      <td>5687</td>\n",
       "    </tr>\n",
       "  </tbody>\n",
       "</table>\n",
       "</div>"
      ],
      "text/plain": [
       "       user_id                         location     age\n",
       "count   278858                           278858  168096\n",
       "unique  278858                            57339     165\n",
       "top          1  london, england, united kingdom      24\n",
       "freq         1                             2506    5687"
      ]
     },
     "execution_count": 99,
     "metadata": {},
     "output_type": "execute_result"
    },
    {
     "name": "stdout",
     "output_type": "stream",
     "text": [
      "\n",
      "\u001b[33mData type of each colum: \n"
     ]
    },
    {
     "data": {
      "text/plain": [
       "user_id     object\n",
       "location    object\n",
       "age         object\n",
       "dtype: object"
      ]
     },
     "execution_count": 99,
     "metadata": {},
     "output_type": "execute_result"
    }
   ],
   "source": [
    "# get users dataframe\n",
    "u_cols = ['user_id', 'location', 'age']\n",
    "users_df = pd.read_csv('Data/Book reviews/BX-Users.csv', sep=';',names = u_cols,encoding='latin-1',low_memory=False)\n",
    "users_df = users_df.drop(users_df.index[0])\n",
    "\n",
    "# About data\n",
    "print(f'{color}Head of users dataframe:')\n",
    "users_df.head(5)\n",
    "print(f'{color}\\nUsers dataframe description: ')\n",
    "users_df.describe()\n",
    "print(f'\\n{color}Data type of each colum: ')\n",
    "users_df.dtypes\n"
   ]
  },
  {
   "cell_type": "code",
   "execution_count": 100,
   "metadata": {},
   "outputs": [
    {
     "name": "stdout",
     "output_type": "stream",
     "text": [
      "\u001b[33mHead of ratings dataframe:\n"
     ]
    },
    {
     "data": {
      "text/html": [
       "<div>\n",
       "<style scoped>\n",
       "    .dataframe tbody tr th:only-of-type {\n",
       "        vertical-align: middle;\n",
       "    }\n",
       "\n",
       "    .dataframe tbody tr th {\n",
       "        vertical-align: top;\n",
       "    }\n",
       "\n",
       "    .dataframe thead th {\n",
       "        text-align: right;\n",
       "    }\n",
       "</style>\n",
       "<table border=\"1\" class=\"dataframe\">\n",
       "  <thead>\n",
       "    <tr style=\"text-align: right;\">\n",
       "      <th></th>\n",
       "      <th>user_id</th>\n",
       "      <th>isbn</th>\n",
       "      <th>rating</th>\n",
       "    </tr>\n",
       "  </thead>\n",
       "  <tbody>\n",
       "    <tr>\n",
       "      <th>1</th>\n",
       "      <td>276725</td>\n",
       "      <td>034545104X</td>\n",
       "      <td>0</td>\n",
       "    </tr>\n",
       "    <tr>\n",
       "      <th>2</th>\n",
       "      <td>276726</td>\n",
       "      <td>0155061224</td>\n",
       "      <td>5</td>\n",
       "    </tr>\n",
       "    <tr>\n",
       "      <th>3</th>\n",
       "      <td>276727</td>\n",
       "      <td>0446520802</td>\n",
       "      <td>0</td>\n",
       "    </tr>\n",
       "    <tr>\n",
       "      <th>4</th>\n",
       "      <td>276729</td>\n",
       "      <td>052165615X</td>\n",
       "      <td>3</td>\n",
       "    </tr>\n",
       "    <tr>\n",
       "      <th>5</th>\n",
       "      <td>276729</td>\n",
       "      <td>0521795028</td>\n",
       "      <td>6</td>\n",
       "    </tr>\n",
       "  </tbody>\n",
       "</table>\n",
       "</div>"
      ],
      "text/plain": [
       "  user_id        isbn rating\n",
       "1  276725  034545104X      0\n",
       "2  276726  0155061224      5\n",
       "3  276727  0446520802      0\n",
       "4  276729  052165615X      3\n",
       "5  276729  0521795028      6"
      ]
     },
     "execution_count": 100,
     "metadata": {},
     "output_type": "execute_result"
    },
    {
     "name": "stdout",
     "output_type": "stream",
     "text": [
      "\u001b[33m\n",
      "Ratings dataframe description: \n"
     ]
    },
    {
     "data": {
      "text/html": [
       "<div>\n",
       "<style scoped>\n",
       "    .dataframe tbody tr th:only-of-type {\n",
       "        vertical-align: middle;\n",
       "    }\n",
       "\n",
       "    .dataframe tbody tr th {\n",
       "        vertical-align: top;\n",
       "    }\n",
       "\n",
       "    .dataframe thead th {\n",
       "        text-align: right;\n",
       "    }\n",
       "</style>\n",
       "<table border=\"1\" class=\"dataframe\">\n",
       "  <thead>\n",
       "    <tr style=\"text-align: right;\">\n",
       "      <th></th>\n",
       "      <th>user_id</th>\n",
       "      <th>isbn</th>\n",
       "      <th>rating</th>\n",
       "    </tr>\n",
       "  </thead>\n",
       "  <tbody>\n",
       "    <tr>\n",
       "      <th>count</th>\n",
       "      <td>1149780</td>\n",
       "      <td>1149780</td>\n",
       "      <td>1149780</td>\n",
       "    </tr>\n",
       "    <tr>\n",
       "      <th>unique</th>\n",
       "      <td>105283</td>\n",
       "      <td>340556</td>\n",
       "      <td>11</td>\n",
       "    </tr>\n",
       "    <tr>\n",
       "      <th>top</th>\n",
       "      <td>11676</td>\n",
       "      <td>0971880107</td>\n",
       "      <td>0</td>\n",
       "    </tr>\n",
       "    <tr>\n",
       "      <th>freq</th>\n",
       "      <td>13602</td>\n",
       "      <td>2502</td>\n",
       "      <td>716109</td>\n",
       "    </tr>\n",
       "  </tbody>\n",
       "</table>\n",
       "</div>"
      ],
      "text/plain": [
       "        user_id        isbn   rating\n",
       "count   1149780     1149780  1149780\n",
       "unique   105283      340556       11\n",
       "top       11676  0971880107        0\n",
       "freq      13602        2502   716109"
      ]
     },
     "execution_count": 100,
     "metadata": {},
     "output_type": "execute_result"
    },
    {
     "name": "stdout",
     "output_type": "stream",
     "text": [
      "\n",
      "\u001b[33mData type of each colum: \n"
     ]
    },
    {
     "data": {
      "text/plain": [
       "user_id    object\n",
       "isbn       object\n",
       "rating     object\n",
       "dtype: object"
      ]
     },
     "execution_count": 100,
     "metadata": {},
     "output_type": "execute_result"
    }
   ],
   "source": [
    "r_cols = ['user_id', 'isbn', 'rating']\n",
    "ratings_df = pd.read_csv('Data/Book reviews/BX-Book-Ratings.csv', sep=';', names=r_cols, encoding='latin-1',low_memory=False)\n",
    "ratings_df = ratings_df.drop(ratings_df.index[0])\n",
    "# About dataframe\n",
    "print(f'{color}Head of ratings dataframe:')\n",
    "ratings_df.head(5)\n",
    "print(f'{color}\\nRatings dataframe description: ')\n",
    "ratings_df.describe()\n",
    "print(f'\\n{color}Data type of each colum: ')\n",
    "ratings_df.dtypes"
   ]
  },
  {
   "cell_type": "markdown",
   "metadata": {},
   "source": [
    "## Data Proccessing"
   ]
  },
  {
   "cell_type": "markdown",
   "metadata": {},
   "source": [
    "#### Change datatypes"
   ]
  },
  {
   "cell_type": "code",
   "execution_count": 101,
   "metadata": {},
   "outputs": [],
   "source": [
    "# Users dataframe\n",
    "users_df['age'] = users_df['age'].astype(float)\n",
    "users_df['user_id'] = users_df['user_id'].astype(int)\n",
    "\n",
    "# Ratings dataframe\n",
    "ratings_df['user_id'] = ratings_df['user_id'].astype(int)\n",
    "ratings_df['rating'] = ratings_df['rating'].astype(int)\n",
    "\n",
    "# Books dataframe\n",
    "books_df['year_of_publication'] = books_df['year_of_publication'].astype(int)"
   ]
  },
  {
   "cell_type": "markdown",
   "metadata": {},
   "source": [
    "#### NaN and Inconsequential values "
   ]
  },
  {
   "cell_type": "code",
   "execution_count": 102,
   "metadata": {},
   "outputs": [
    {
     "name": "stdout",
     "output_type": "stream",
     "text": [
      "\u001b[33mTotal Nan values of each column of Users dataframe: \n"
     ]
    },
    {
     "data": {
      "text/plain": [
       "user_id          0\n",
       "location         0\n",
       "age         110762\n",
       "dtype: int64"
      ]
     },
     "execution_count": 102,
     "metadata": {},
     "output_type": "execute_result"
    }
   ],
   "source": [
    "# Users dataframe\n",
    "print(f'{color}Total Nan values of each column of Users dataframe: ')\n",
    "users_df.isnull().sum()"
   ]
  },
  {
   "cell_type": "code",
   "execution_count": 103,
   "metadata": {},
   "outputs": [
    {
     "data": {
      "text/plain": [
       "count    168096.000000\n",
       "mean         34.751434\n",
       "std          14.428097\n",
       "min           0.000000\n",
       "25%          24.000000\n",
       "50%          32.000000\n",
       "75%          44.000000\n",
       "max         244.000000\n",
       "Name: age, dtype: float64"
      ]
     },
     "execution_count": 103,
     "metadata": {},
     "output_type": "execute_result"
    },
    {
     "data": {
      "text/plain": [
       "(array([8.8200e+02, 1.8700e+02, 3.2440e+03, 1.5650e+04, 2.4351e+04,\n",
       "        2.7188e+04, 2.3579e+04, 1.8310e+04, 1.1635e+04, 1.2604e+04,\n",
       "        1.1153e+04, 8.9140e+03, 5.0390e+03, 2.7090e+03, 1.3970e+03,\n",
       "        5.5800e+02, 1.8100e+02, 7.6000e+01, 3.3000e+01, 2.7000e+01,\n",
       "        2.3000e+01, 2.5500e+02, 6.0000e+00, 1.5000e+01, 2.0000e+00,\n",
       "        1.3000e+01, 2.0000e+00, 5.0000e+00, 6.0000e+00, 2.0000e+00,\n",
       "        9.0000e+00, 2.0000e+00, 2.0000e+00, 1.0000e+00, 1.0000e+00,\n",
       "        2.0000e+00, 0.0000e+00, 1.0000e+00, 2.0000e+00, 0.0000e+00,\n",
       "        4.0000e+00, 5.0000e+00, 4.0000e+00, 4.0000e+00, 1.0000e+00,\n",
       "        2.0000e+00, 5.0000e+00, 2.0000e+00, 2.0000e+00, 1.0000e+00]),\n",
       " array([  0.  ,   4.88,   9.76,  14.64,  19.52,  24.4 ,  29.28,  34.16,\n",
       "         39.04,  43.92,  48.8 ,  53.68,  58.56,  63.44,  68.32,  73.2 ,\n",
       "         78.08,  82.96,  87.84,  92.72,  97.6 , 102.48, 107.36, 112.24,\n",
       "        117.12, 122.  , 126.88, 131.76, 136.64, 141.52, 146.4 , 151.28,\n",
       "        156.16, 161.04, 165.92, 170.8 , 175.68, 180.56, 185.44, 190.32,\n",
       "        195.2 , 200.08, 204.96, 209.84, 214.72, 219.6 , 224.48, 229.36,\n",
       "        234.24, 239.12, 244.  ]),\n",
       " <a list of 50 Patch objects>)"
      ]
     },
     "execution_count": 103,
     "metadata": {},
     "output_type": "execute_result"
    },
    {
     "data": {
      "image/png": "[encoded data removed]",
      "text/plain": [
       "<Figure size 432x288 with 1 Axes>"
      ]
     },
     "metadata": {
      "needs_background": "light"
     },
     "output_type": "display_data"
    }
   ],
   "source": [
    "# Age describe\n",
    "\n",
    "users_df['age'].describe()\n",
    "plt.hist(users_df['age'], bins = 50)"
   ]
  },
  {
   "cell_type": "code",
   "execution_count": 107,
   "metadata": {},
   "outputs": [
    {
     "data": {
      "text/plain": [
       "count    278858.000000\n",
       "mean         33.641678\n",
       "std          10.625783\n",
       "min           5.000000\n",
       "25%          29.000000\n",
       "50%          32.000000\n",
       "75%          35.000000\n",
       "max          99.000000\n",
       "Name: age, dtype: float64"
      ]
     },
     "execution_count": 107,
     "metadata": {},
     "output_type": "execute_result"
    },
    {
     "data": {
      "text/plain": [
       "(array([3.43100e+03, 3.43140e+04, 1.63815e+05, 3.17850e+04, 2.24240e+04,\n",
       "        1.64280e+04, 5.07100e+03, 1.37700e+03, 1.51000e+02, 6.20000e+01]),\n",
       " array([ 5. , 14.4, 23.8, 33.2, 42.6, 52. , 61.4, 70.8, 80.2, 89.6, 99. ]),\n",
       " <a list of 10 Patch objects>)"
      ]
     },
     "execution_count": 107,
     "metadata": {},
     "output_type": "execute_result"
    },
    {
     "data": {
      "image/png": "[encoded data removed]",
      "text/plain": [
       "<Figure size 432x288 with 1 Axes>"
      ]
     },
     "metadata": {
      "needs_background": "light"
     },
     "output_type": "display_data"
    }
   ],
   "source": [
    "users_df.loc[(users_df.age>99) | (users_df.age<5),'age'] = np.nan\n",
    "users_df.age = users_df.age.fillna(users_df.age.median()) # fillna with median value\n",
    "users_df['age'].describe()\n",
    "plt.hist(users_df['age'], bins = 10)"
   ]
  },
  {
   "cell_type": "code",
   "execution_count": 108,
   "metadata": {},
   "outputs": [
    {
     "data": {
      "text/plain": [
       "user_id    0\n",
       "isbn       0\n",
       "rating     0\n",
       "dtype: int64"
      ]
     },
     "execution_count": 108,
     "metadata": {},
     "output_type": "execute_result"
    }
   ],
   "source": [
    "# Ratings dataframe\n",
    "ratings_df.isnull().sum()\n"
   ]
  },
  {
   "cell_type": "code",
   "execution_count": 110,
   "metadata": {},
   "outputs": [
    {
     "data": {
      "text/plain": [
       "isbn                   0\n",
       "book_title             0\n",
       "book_author            1\n",
       "year_of_publication    0\n",
       "publisher              2\n",
       "img_s                  0\n",
       "img_m                  0\n",
       "img_l                  0\n",
       "dtype: int64"
      ]
     },
     "execution_count": 110,
     "metadata": {},
     "output_type": "execute_result"
    },
    {
     "data": {
      "text/html": [
       "<div>\n",
       "<style scoped>\n",
       "    .dataframe tbody tr th:only-of-type {\n",
       "        vertical-align: middle;\n",
       "    }\n",
       "\n",
       "    .dataframe tbody tr th {\n",
       "        vertical-align: top;\n",
       "    }\n",
       "\n",
       "    .dataframe thead th {\n",
       "        text-align: right;\n",
       "    }\n",
       "</style>\n",
       "<table border=\"1\" class=\"dataframe\">\n",
       "  <thead>\n",
       "    <tr style=\"text-align: right;\">\n",
       "      <th></th>\n",
       "      <th>isbn</th>\n",
       "      <th>book_title</th>\n",
       "      <th>book_author</th>\n",
       "      <th>year_of_publication</th>\n",
       "      <th>publisher</th>\n",
       "      <th>img_s</th>\n",
       "      <th>img_m</th>\n",
       "      <th>img_l</th>\n",
       "    </tr>\n",
       "  </thead>\n",
       "  <tbody>\n",
       "    <tr>\n",
       "      <th>128897</th>\n",
       "      <td>193169656X</td>\n",
       "      <td>Tyrant Moon</td>\n",
       "      <td>Elaine Corvidae</td>\n",
       "      <td>2002</td>\n",
       "      <td>NaN</td>\n",
       "      <td>http://images.amazon.com/images/P/193169656X.0...</td>\n",
       "      <td>http://images.amazon.com/images/P/193169656X.0...</td>\n",
       "      <td>http://images.amazon.com/images/P/193169656X.0...</td>\n",
       "    </tr>\n",
       "    <tr>\n",
       "      <th>129044</th>\n",
       "      <td>1931696993</td>\n",
       "      <td>Finders Keepers</td>\n",
       "      <td>Linnea Sinclair</td>\n",
       "      <td>2001</td>\n",
       "      <td>NaN</td>\n",
       "      <td>http://images.amazon.com/images/P/1931696993.0...</td>\n",
       "      <td>http://images.amazon.com/images/P/1931696993.0...</td>\n",
       "      <td>http://images.amazon.com/images/P/1931696993.0...</td>\n",
       "    </tr>\n",
       "  </tbody>\n",
       "</table>\n",
       "</div>"
      ],
      "text/plain": [
       "              isbn       book_title      book_author  year_of_publication  \\\n",
       "128897  193169656X      Tyrant Moon  Elaine Corvidae                 2002   \n",
       "129044  1931696993  Finders Keepers  Linnea Sinclair                 2001   \n",
       "\n",
       "       publisher                                              img_s  \\\n",
       "128897       NaN  http://images.amazon.com/images/P/193169656X.0...   \n",
       "129044       NaN  http://images.amazon.com/images/P/1931696993.0...   \n",
       "\n",
       "                                                    img_m  \\\n",
       "128897  http://images.amazon.com/images/P/193169656X.0...   \n",
       "129044  http://images.amazon.com/images/P/1931696993.0...   \n",
       "\n",
       "                                                    img_l  \n",
       "128897  http://images.amazon.com/images/P/193169656X.0...  \n",
       "129044  http://images.amazon.com/images/P/1931696993.0...  "
      ]
     },
     "execution_count": 110,
     "metadata": {},
     "output_type": "execute_result"
    }
   ],
   "source": [
    "# Books dataframe\n",
    "\n",
    "books_df.isnull().sum()\n",
    "books_df.loc[books_df.publisher.isnull(),:]"
   ]
  },
  {
   "cell_type": "code",
   "execution_count": 111,
   "metadata": {},
   "outputs": [],
   "source": [
    "# Fill NaN by searching on the Internet\n",
    "books_df.loc[books_df.isbn=='193169656X','publisher']='Mundania Press LLC'  \n",
    "books_df.loc[books_df.isbn=='1931696993','publisher']='Novelbooks Incorporated'"
   ]
  },
  {
   "cell_type": "code",
   "execution_count": 112,
   "metadata": {},
   "outputs": [
    {
     "data": {
      "text/html": [
       "<div>\n",
       "<style scoped>\n",
       "    .dataframe tbody tr th:only-of-type {\n",
       "        vertical-align: middle;\n",
       "    }\n",
       "\n",
       "    .dataframe tbody tr th {\n",
       "        vertical-align: top;\n",
       "    }\n",
       "\n",
       "    .dataframe thead th {\n",
       "        text-align: right;\n",
       "    }\n",
       "</style>\n",
       "<table border=\"1\" class=\"dataframe\">\n",
       "  <thead>\n",
       "    <tr style=\"text-align: right;\">\n",
       "      <th></th>\n",
       "      <th>isbn</th>\n",
       "      <th>book_title</th>\n",
       "      <th>book_author</th>\n",
       "      <th>year_of_publication</th>\n",
       "      <th>publisher</th>\n",
       "      <th>img_s</th>\n",
       "      <th>img_m</th>\n",
       "      <th>img_l</th>\n",
       "    </tr>\n",
       "  </thead>\n",
       "  <tbody>\n",
       "    <tr>\n",
       "      <th>187701</th>\n",
       "      <td>9627982032</td>\n",
       "      <td>The Credit Suisse Guide to Managing Your Perso...</td>\n",
       "      <td>NaN</td>\n",
       "      <td>1995</td>\n",
       "      <td>Edinburgh Financial Publishing</td>\n",
       "      <td>http://images.amazon.com/images/P/9627982032.0...</td>\n",
       "      <td>http://images.amazon.com/images/P/9627982032.0...</td>\n",
       "      <td>http://images.amazon.com/images/P/9627982032.0...</td>\n",
       "    </tr>\n",
       "  </tbody>\n",
       "</table>\n",
       "</div>"
      ],
      "text/plain": [
       "              isbn                                         book_title  \\\n",
       "187701  9627982032  The Credit Suisse Guide to Managing Your Perso...   \n",
       "\n",
       "       book_author  year_of_publication                       publisher  \\\n",
       "187701         NaN                 1995  Edinburgh Financial Publishing   \n",
       "\n",
       "                                                    img_s  \\\n",
       "187701  http://images.amazon.com/images/P/9627982032.0...   \n",
       "\n",
       "                                                    img_m  \\\n",
       "187701  http://images.amazon.com/images/P/9627982032.0...   \n",
       "\n",
       "                                                    img_l  \n",
       "187701  http://images.amazon.com/images/P/9627982032.0...  "
      ]
     },
     "execution_count": 112,
     "metadata": {},
     "output_type": "execute_result"
    }
   ],
   "source": [
    "books_df.loc[books_df.book_author.isnull(),:]"
   ]
  },
  {
   "cell_type": "code",
   "execution_count": 114,
   "metadata": {},
   "outputs": [],
   "source": [
    "# Fill NaN by searching on the Internet\n",
    "books_df.loc[books_df.isbn=='9627982032','book_author']='Larissa Anne Downe'"
   ]
  },
  {
   "cell_type": "code",
   "execution_count": 117,
   "metadata": {},
   "outputs": [
    {
     "data": {
      "text/plain": [
       "count    271379.000000\n",
       "mean       1959.756050\n",
       "std         258.011363\n",
       "min           0.000000\n",
       "25%        1989.000000\n",
       "50%        1995.000000\n",
       "75%        2000.000000\n",
       "max        2050.000000\n",
       "Name: year_of_publication, dtype: float64"
      ]
     },
     "execution_count": 117,
     "metadata": {},
     "output_type": "execute_result"
    }
   ],
   "source": [
    "books_df['year_of_publication'].describe()"
   ]
  },
  {
   "cell_type": "code",
   "execution_count": 121,
   "metadata": {},
   "outputs": [],
   "source": [
    "books_df.loc[(books_df.year_of_publication==0)|(books_df.year_of_publication>2023) ,'year_of_publication' ] = np.nan\n",
    "books_df.year_of_publication = books_df.year_of_publication.fillna(round(books_df.year_of_publication.median())) # Fillnan with median value"
   ]
  },
  {
   "cell_type": "code",
   "execution_count": null,
   "metadata": {},
   "outputs": [],
   "source": []
  }
 ],
 "metadata": {
  "kernelspec": {
   "display_name": "dat",
   "language": "python",
   "name": "python3"
  },
  "language_info": {
   "codemirror_mode": {
    "name": "ipython",
    "version": 3
   },
   "file_extension": ".py",
   "mimetype": "text/x-python",
   "name": "python",
   "nbconvert_exporter": "python",
   "pygments_lexer": "ipython3",
   "version": "3.8.16"
  },
  "orig_nbformat": 4
 },
 "nbformat": 4,
 "nbformat_minor": 2
}
